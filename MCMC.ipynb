{
 "cells": [
  {
   "cell_type": "markdown",
   "metadata": {
    "tags": []
   },
   "source": [
    "## Import Necessary Python Packages/Libraries \n",
    "\n",
    "You will need to import the following packages in order to run this code"
   ]
  },
  {
   "cell_type": "code",
   "execution_count": 1,
   "metadata": {},
   "outputs": [],
   "source": [
    "import pandas as pd\n",
    "import matplotlib.pyplot as plt\n",
    "import numpy as np\n",
    "import copy\n",
    "import sklearn\n",
    "import emcee\n",
    "import corner\n",
    "import seaborn as sns\n",
    "import joblib\n",
    "import tensorflow as tf\n",
    "from sklearn import preprocessing\n",
    "from sklearn.preprocessing import MinMaxScaler"
   ]
  },
  {
   "cell_type": "markdown",
   "metadata": {
    "tags": []
   },
   "source": [
    "## Define Functions"
   ]
  },
  {
   "cell_type": "code",
   "execution_count": 2,
   "metadata": {},
   "outputs": [],
   "source": [
    "def read_pdos(filename):\n",
    "    f = open(filename)\n",
    "    data = f.readlines()\n",
    "    x = []\n",
    "    for datum in data:\n",
    "        inp = datum.split()\n",
    "        inp = [ float(i) for i in inp ]\n",
    "        x.append(inp)\n",
    "    return np.asarray(x)"
   ]
  },
  {
   "cell_type": "code",
   "execution_count": 3,
   "metadata": {},
   "outputs": [],
   "source": [
    "#Define function to calculate chi-square statistic\n",
    "def chi_sq(a, b, err):\n",
    "    chi_sq = []\n",
    "    for i, el in enumerate(a):\n",
    "        chi_sq.append((el - b[i])**2/err[i])\n",
    "    return np.sum(np.array(chi_sq))"
   ]
  },
  {
   "cell_type": "code",
   "execution_count": 4,
   "metadata": {},
   "outputs": [],
   "source": [
    "#Define function to calculate log-likelihood\n",
    "def lnlike(theta, y, yerr):\n",
    "    lim = q_values\n",
    "    theta = np.expand_dims(theta, axis=0)  \n",
    "    y_model = s_ml_model(theta).numpy().flatten()\n",
    "    _tmp = ((y[:lim] - y_model[:lim])**2 / yerr[:lim]) / y[:lim]\n",
    "    LnLike = -0.5 * np.sum(_tmp)\n",
    "    return LnLike"
   ]
  },
  {
   "cell_type": "code",
   "execution_count": 5,
   "metadata": {},
   "outputs": [],
   "source": [
    "#Define function to calculate the log-prior \n",
    "def lnprior(theta):\n",
    "    JF1, JF2 = theta\n",
    "    if 0 < JF1 < 1 and 0. < JF2 < 1:\n",
    "        return 0.0\n",
    "    else:\n",
    "        return -np.inf"
   ]
  },
  {
   "cell_type": "code",
   "execution_count": 6,
   "metadata": {},
   "outputs": [],
   "source": [
    "#Define function to calculate log-posterior\n",
    "def lnprob(theta, y, yerr):\n",
    "\n",
    "    lp = lnprior(theta)\n",
    "    if not lp == 0:\n",
    "        return -np.inf\n",
    "    return lp + lnlike(theta, y, yerr)"
   ]
  },
  {
   "cell_type": "code",
   "execution_count": 7,
   "metadata": {},
   "outputs": [],
   "source": [
    "#Define MCMC sampling function\n",
    "def main(p0, nwalkers, niter, ndim, lnprob, data):\n",
    "    sampler = emcee.EnsembleSampler(nwalkers, ndim, lnprob, args=data)\n",
    "\n",
    "    print(\"Running burn-in...\")\n",
    "    p0, _, _ = sampler.run_mcmc(p0, 100, progress=True)\n",
    "    sampler.reset()\n",
    "\n",
    "    print(\"Running production...\")\n",
    "    pos, prob, state = sampler.run_mcmc(p0, niter, progress=True)\n",
    "\n",
    "    return sampler, pos, prob, state"
   ]
  },
  {
   "cell_type": "markdown",
   "metadata": {
    "tags": []
   },
   "source": [
    "## Define Constants\n"
   ]
  },
  {
   "cell_type": "code",
   "execution_count": 8,
   "metadata": {},
   "outputs": [],
   "source": [
    "q_values = 225 #Number of q values to be used in the sampling \n",
    "limits = [(0, 1), (0, 1)] #Define limits for parameters and prior distribution \n",
    "nwalkers = 25 # Number of walkers for MCMC sampling \n",
    "niter = 1000 # Number of iterations for MCMC sampling\n",
    "initial = np.array([0.1, 0.1]) # Define uniform prior\n",
    "ndim = 2 # Number of parameters for MCMC sampling \n",
    "p0 = [np.random.rand(ndim) for i in range(nwalkers)] # Define intial positions of walkers to be random"
   ]
  },
  {
   "cell_type": "markdown",
   "metadata": {
    "tags": []
   },
   "source": [
    "## Peform Scaling using Training Data Set"
   ]
  },
  {
   "cell_type": "code",
   "execution_count": 9,
   "metadata": {},
   "outputs": [],
   "source": [
    "# Load Training Data\n",
    "data = pd.read_pickle('SAXS_Data.pickle')\n",
    "\n",
    "# Initialize lists to store extracted data\n",
    "charge_number_list = []\n",
    "kappa_list = []\n",
    "scattering_list = []\n",
    "\n",
    "for d in data:\n",
    "    charge_number_list.append(d['charge_number'])\n",
    "    kappa_list.append(d['kappa'])\n",
    "    scattering_list.append(d['scattering'])\n",
    "\n",
    "charge_number_data = np.array(charge_number_list).reshape(-1, 1)\n",
    "kappa_data = np.array(kappa_list).reshape(-1, 1)\n",
    "scattering_data = np.array(scattering_list)\n",
    "\n",
    "# Extract features and labels\n",
    "y = np.concatenate((charge_number_data, kappa_data), axis=1)\n",
    "X = np.array([a[:q_values] for a in scattering_data])\n",
    "\n",
    "# Scale features and labels using MinMaxScaler\n",
    "min_max_scaler_sig = preprocessing.MinMaxScaler()\n",
    "X_scaled = min_max_scaler_sig.fit_transform(X)\n",
    "min_max_scaler_labels = preprocessing.MinMaxScaler()\n",
    "y_scaled = min_max_scaler_labels.fit_transform(y)"
   ]
  },
  {
   "cell_type": "markdown",
   "metadata": {},
   "source": [
    "## Load the ANN Surrogate Model\n",
    "\n",
    "We will be using the trained NN as the surrogate. Load it up here."
   ]
  },
  {
   "cell_type": "code",
   "execution_count": 10,
   "metadata": {},
   "outputs": [],
   "source": [
    "s_ml_model = tf.keras.models.load_model('2Param_Inverse_Model.h5')"
   ]
  },
  {
   "cell_type": "markdown",
   "metadata": {},
   "source": [
    "## Load the experimental data\n",
    "\n",
    "We load the experimental measurement and prepare it for MCMC Sampling."
   ]
  },
  {
   "cell_type": "code",
   "execution_count": 11,
   "metadata": {},
   "outputs": [],
   "source": [
    "# Load Experimental Data\n",
    "expt = read_pdos('Experimental_Data.dat')\n",
    "expt = pd.DataFrame(expt)\n",
    "expt_scattering = expt.iloc[:, 1]\n",
    "errors = expt.iloc[:, 2]\n",
    "Xtra = copy.deepcopy(X)\n",
    "\n",
    "# Scale data for MCMC Sampling using MinMaxScaler\n",
    "expt_subset = expt.iloc[:225, 1].values.reshape(1, -1)\n",
    "Xtra = np.concatenate((Xtra, expt_subset), axis=0)\n",
    "min_max_scaler_sig = MinMaxScaler()\n",
    "inputx = min_max_scaler_sig.fit_transform(Xtra)\n",
    "err_expt = errors / np.max(errors)\n",
    "\n",
    "sim = inputx[-1, :q_values]\n",
    "err_expt = err_expt[:q_values]\n",
    "data = (sim, err_expt)"
   ]
  },
  {
   "cell_type": "markdown",
   "metadata": {},
   "source": [
    "## Perform MCMC Sampling"
   ]
  },
  {
   "cell_type": "code",
   "execution_count": 12,
   "metadata": {},
   "outputs": [
    {
     "name": "stdout",
     "output_type": "stream",
     "text": [
      "Running burn-in...\n"
     ]
    },
    {
     "name": "stderr",
     "output_type": "stream",
     "text": [
      "100%|██████████| 100/100 [00:08<00:00, 11.92it/s]\n"
     ]
    },
    {
     "name": "stdout",
     "output_type": "stream",
     "text": [
      "Running production...\n"
     ]
    },
    {
     "name": "stderr",
     "output_type": "stream",
     "text": [
      "100%|██████████| 1000/1000 [01:20<00:00, 12.47it/s]\n"
     ]
    }
   ],
   "source": [
    "sampler_e, pos_e, prob_e, state_e = main(p0, nwalkers, 1000, ndim, lnprob, data)"
   ]
  },
  {
   "cell_type": "markdown",
   "metadata": {},
   "source": [
    "## MCMC Sampling Results"
   ]
  },
  {
   "cell_type": "code",
   "execution_count": 13,
   "metadata": {},
   "outputs": [
    {
     "name": "stdout",
     "output_type": "stream",
     "text": [
      "MAP Estimates: [0.24842672 0.01782731]\n",
      "Chi^2: 4.475153222093958\n"
     ]
    }
   ],
   "source": [
    "samples = sampler_e.flatchain\n",
    "theta_max_e  = samples[np.argmax(sampler_e.flatlnprobability)] # Obtain maximum a posteriori estimates for two patameters\n",
    "best_fit_model_e = s_ml_model(theta_max_e.reshape(1, -1)) # Calculate chi-square value for best fit parameters \n",
    "\n",
    "print('MAP Estimates:', theta_max_e)\n",
    "print('Chi^2:', chi_sq(np.squeeze(best_fit_model_e)[:q_values], sim[:q_values], err_expt[:q_values]))"
   ]
  },
  {
   "cell_type": "markdown",
   "metadata": {},
   "source": [
    "## MCMC Corner Plot"
   ]
  },
  {
   "cell_type": "code",
   "execution_count": 14,
   "metadata": {},
   "outputs": [
    {
     "name": "stdout",
     "output_type": "stream",
     "text": [
      "Charge number: 24.906\n",
      "Kappa: 6.837e-09\n"
     ]
    },
    {
     "data": {
      "image/png": "[encoded data removed]",
      "text/plain": [
       "<Figure size 550x550 with 4 Axes>"
      ]
     },
     "metadata": {},
     "output_type": "display_data"
    }
   ],
   "source": [
    "# Extract MCMC samples\n",
    "samples = sampler_e.flatchain\n",
    "theta_max_e = samples[np.argmax(sampler_e.flatlnprobability)]\n",
    "theta_max_e = theta_max_e.reshape(1, -1)\n",
    "\n",
    "# Inverse transform MAP using scaler\n",
    "res_unscaled = min_max_scaler_labels.inverse_transform(theta_max_e).reshape(-1)\n",
    "res_charge_number = res_unscaled[0]\n",
    "res_kappa = 1 / res_unscaled[1]\n",
    "\n",
    "# Print unscaled MAP values of parameters\n",
    "print('Charge number: {:.3f}'.format(res_charge_number))\n",
    "print('Kappa: {:.3e}'.format(res_kappa))\n",
    "\n",
    "# Plotting corner plot with MCMC results\n",
    "fig = corner.corner(samples, labels=['Charge Number', 'Kappa'], color='b', smooth=0.75)\n",
    "plt.show()"
   ]
  },
  {
   "cell_type": "code",
   "execution_count": null,
   "metadata": {},
   "outputs": [],
   "source": []
  }
 ],
 "metadata": {
  "kernelspec": {
   "display_name": "Python 3 (ipykernel)",
   "language": "python",
   "name": "python3"
  },
  "language_info": {
   "codemirror_mode": {
    "name": "ipython",
    "version": 3
   },
   "file_extension": ".py",
   "mimetype": "text/x-python",
   "name": "python",
   "nbconvert_exporter": "python",
   "pygments_lexer": "ipython3",
   "version": "3.9.17"
  }
 },
 "nbformat": 4,
 "nbformat_minor": 4
}
